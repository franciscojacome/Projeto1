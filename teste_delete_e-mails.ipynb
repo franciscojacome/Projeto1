{
 "cells": [
  {
   "cell_type": "code",
   "execution_count": 2,
   "metadata": {},
   "outputs": [],
   "source": [
    "# Importar bibliotecas\n",
    "import pyperclip\n",
    "import pyautogui\n",
    "import time"
   ]
  },
  {
   "cell_type": "code",
   "execution_count": 3,
   "metadata": {},
   "outputs": [],
   "source": [
    "# Abrir o Google Chrome\n",
    "with pyautogui.hold(['command']):\n",
    "    time.sleep(1)\n",
    "    pyautogui.press('space')\n",
    "pyautogui.write(\"Google\")\n",
    "time.sleep(1)\n",
    "pyautogui.press(\"enter\")\n",
    "time.sleep(1)"
   ]
  },
  {
   "cell_type": "code",
   "execution_count": 4,
   "metadata": {},
   "outputs": [],
   "source": [
    "# Acessar site\n",
    "with pyautogui.hold(['command']):\n",
    "    time.sleep(1)\n",
    "    pyautogui.press('t')\n",
    "time.sleep(1)\n",
    "pyperclip.copy(\"https://mail.google.com/mail/u/0/?tab=rm&ogbl#inbox\")\n",
    "with pyautogui.hold(['command']):\n",
    "    time.sleep(1)\n",
    "    pyautogui.press('v')\n",
    "time.sleep(1)\n",
    "pyautogui.press(\"enter\")\n",
    "time.sleep(2)"
   ]
  },
  {
   "cell_type": "code",
   "execution_count": 5,
   "metadata": {},
   "outputs": [],
   "source": [
    "# Pesquisar o remetente desejado\n",
    "pyautogui.click(x=331, y=112)\n",
    "pyautogui.write(\"noreply@iqoption.com\")\n",
    "pyautogui.press(\"enter\")\n",
    "time.sleep(1)"
   ]
  },
  {
   "cell_type": "code",
   "execution_count": 6,
   "metadata": {},
   "outputs": [],
   "source": [
    "# Selecionar todos os e-mails\n",
    "pyautogui.click(x=282, y=221)\n",
    "time.sleep(1)\n",
    "pyautogui.click(x=1022, y=272)\n",
    "time.sleep(1)\n",
    "pyautogui.click(x=429, y=220)\n",
    "time.sleep(1)\n",
    "pyautogui.click(x=1032, y=589)\n",
    "time.sleep(1)"
   ]
  },
  {
   "cell_type": "code",
   "execution_count": 7,
   "metadata": {},
   "outputs": [],
   "source": [
    "# Exluir definitivamente\n",
    "pyautogui.click(x=57, y=594)\n",
    "time.sleep(1)\n",
    "pyautogui.click(x=110, y=753)\n",
    "time.sleep(1)\n",
    "pyautogui.click(x=282, y=221)\n",
    "time.sleep(1)\n",
    "pyautogui.click(x=1089, y=276)\n",
    "time.sleep(1)\n",
    "pyautogui.click(x=396, y=224)\n",
    "time.sleep(1)\n",
    "pyautogui.click(x=1029, y=618)"
   ]
  }
 ],
 "metadata": {
  "kernelspec": {
   "display_name": "Python 3.8.9 64-bit",
   "language": "python",
   "name": "python3"
  },
  "language_info": {
   "codemirror_mode": {
    "name": "ipython",
    "version": 3
   },
   "file_extension": ".py",
   "mimetype": "text/x-python",
   "name": "python",
   "nbconvert_exporter": "python",
   "pygments_lexer": "ipython3",
   "version": "3.8.9"
  },
  "orig_nbformat": 4,
  "vscode": {
   "interpreter": {
    "hash": "31f2aee4e71d21fbe5cf8b01ff0e069b9275f58929596ceb00d14d90e3e16cd6"
   }
  }
 },
 "nbformat": 4,
 "nbformat_minor": 2
}
